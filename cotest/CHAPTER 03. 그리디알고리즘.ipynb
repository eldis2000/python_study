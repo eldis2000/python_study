{
 "cells": [
  {
   "cell_type": "markdown",
   "metadata": {},
   "source": [
    "# 1. 당장 좋은 것만 선택하는 그리디\n",
    "\n",
    "### 현재 상황에서 지금당장 좋은 것만 고르는 방법\n",
    "그리디 알고리즘은 단순하지만 강력한 문제 해결방법이다. 이 알고리즘 유형은 국내 알고리즘 교재에서 단어 그대로 번역하여 '탐욕법'으로 소개된다. 이름에서 알 수 있듯이 어떠한 문제가 있을때 무식하게, 탐욕적으로 문제를 푸는 알고리즘이다. 여기서 탐욕적이라는 말은 '현재 상황에서 지금 당장 좋은것만 고르는 밥법'을 의미한다.\n",
    "\n",
    "### 예제 3-1) 거스름돈\n",
    "당신은 음식점의 계산을 도와주 점원이다. 카운터에는 거스름돈으로 사용할 500원, 100원, 50원, 10원짜리 동전이 무한히 존재한다고 가정한다. 손님에게 거슬러 줘야 할 돈이 N원일 때 거슬러 줘야 할 동전의 최소 개수를 구하라. 단, 거슬러 줘야 할 돈 N은 항상 10의 배소이다.\n",
    "\n",
    "\n",
    "### 문제해설\n",
    "이 문제는 그리디알고리즘을 이용해 풀 수 있는 대표적인 문제로 간단한 아이디어만 떠올릴 수 있으며 문제를 해결 할 수 있다. 그것은 바로 '가장 큰 화폐단위 부터' 거슬러 줄 수 있을 만큼 거슬러 주는것이다. N원을 거슬러 줘야 할때, 가장먼저 500원으로 거슬러 줄 수 있을 만큼 거슬러 준다. 그다음 100원, 50원, 10원짜리 동전을 차례대로 거슬러 줄 수 있을 만큼 거슬러 주면 최소의 동전 개수로 모두 거슬러 줄 수 있다."
   ]
  },
  {
   "cell_type": "code",
   "execution_count": 11,
   "metadata": {},
   "outputs": [
    {
     "name": "stdout",
     "output_type": "stream",
     "text": [
      "6\n"
     ]
    }
   ],
   "source": [
    "# 거스름 돈\n",
    "n = 1260\n",
    "# 동전의 개수\n",
    "count = 0\n",
    "# 동전의 종류\n",
    "coin_types = [500, 100, 50, 10]\n",
    "\n",
    "# 동전의 종류별로 금액이 큰 동전부터 나눈다. \n",
    "for coin in coin_types:\n",
    "    count += n // coin # 해당 화폐로 거슬러 줄 수 있는 동전의 개수 세기\n",
    "    n %= coin # 나머지\n",
    "\n",
    "print(count)"
   ]
  },
  {
   "cell_type": "markdown",
   "metadata": {},
   "source": [
    "### 큰수의 법칙"
   ]
  },
  {
   "cell_type": "code",
   "execution_count": 14,
   "metadata": {},
   "outputs": [
    {
     "name": "stdout",
     "output_type": "stream",
     "text": [
      "5 8 3\n",
      "2 4 5 4 6\n",
      "26\n"
     ]
    }
   ],
   "source": [
    "# N, M, K를 공백으로 구분하여 입력받기\n",
    "n, m, k = map(int, input().split())\n",
    "# N개의 수를 공백으로 구분하여 입력받기\n",
    "data = list(map(int, input().split()))\n",
    "\n",
    "data.sort() # 입력받은 수 정렬\n",
    "first = data[n-1] # 가장 큰수\n",
    "second = data[n-2] # 두 번째로 큰 수\n",
    "\n",
    "# 가장 큰 수가 더해지는 횟수 계산\n",
    "count = int(m / (k + 1)) + k\n",
    "count += m % (k + 1)\n",
    "\n",
    "result = 0\n",
    "result += (count) + first # 가장 큰 수 더하기\n",
    "result += (m - count) *second # 두 번째로 큰 수 더하기\n",
    "\n",
    "print(result) # 최종 답안 출력"
   ]
  },
  {
   "cell_type": "code",
   "execution_count": null,
   "metadata": {},
   "outputs": [],
   "source": []
  }
 ],
 "metadata": {
  "kernelspec": {
   "display_name": "Python 3",
   "language": "python",
   "name": "python3"
  },
  "language_info": {
   "codemirror_mode": {
    "name": "ipython",
    "version": 3
   },
   "file_extension": ".py",
   "mimetype": "text/x-python",
   "name": "python",
   "nbconvert_exporter": "python",
   "pygments_lexer": "ipython3",
   "version": "3.9.0"
  }
 },
 "nbformat": 4,
 "nbformat_minor": 4
}
